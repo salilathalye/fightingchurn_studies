{
 "cells": [
  {
   "cell_type": "code",
   "execution_count": null,
   "id": "european-bangladesh",
   "metadata": {},
   "outputs": [],
   "source": [
    "import os"
   ]
  },
  {
   "cell_type": "code",
   "execution_count": null,
   "id": "considered-punishment",
   "metadata": {},
   "outputs": [],
   "source": [
    "os.environ['CHURN_DB']='churn'\n",
    "os.environ['CHURN_DB_USER']='user'\n",
    "os.environ['CHURN_DB_PASS']='pass'"
   ]
  },
  {
   "cell_type": "code",
   "execution_count": null,
   "id": "regulated-membership",
   "metadata": {},
   "outputs": [],
   "source": [
    "run run_churn_listing.py --chapter 2 --listing 1"
   ]
  },
  {
   "cell_type": "code",
   "execution_count": null,
   "id": "occasional-techno",
   "metadata": {},
   "outputs": [],
   "source": []
  }
 ],
 "metadata": {
  "kernelspec": {
   "display_name": "Python 3",
   "language": "python",
   "name": "python3"
  },
  "language_info": {
   "codemirror_mode": {
    "name": "ipython",
    "version": 3
   },
   "file_extension": ".py",
   "mimetype": "text/x-python",
   "name": "python",
   "nbconvert_exporter": "python",
   "pygments_lexer": "ipython3",
   "version": "3.9.2"
  }
 },
 "nbformat": 4,
 "nbformat_minor": 5
}
